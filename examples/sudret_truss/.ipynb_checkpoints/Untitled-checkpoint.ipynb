{
 "cells": [
  {
   "cell_type": "code",
   "execution_count": 1,
   "id": "14525613-09c7-409a-9d3f-5a9cfa79fc09",
   "metadata": {},
   "outputs": [
    {
     "name": "stderr",
     "output_type": "stream",
     "text": [
      "/home/rishith/PhD/Codes/fem_neural_network/env/femnn/lib/python3.8/site-packages/tqdm/auto.py:22: TqdmWarning: IProgress not found. Please update jupyter and ipywidgets. See https://ipywidgets.readthedocs.io/en/stable/user_install.html\n",
      "  from .autonotebook import tqdm as notebook_tqdm\n"
     ]
    }
   ],
   "source": [
    "import numpy as np\n",
    "from matplotlib import pyplot as plt\n",
    "import json, torch, sys, optuna\n",
    "from tqdm import tqdm\n",
    "import time as time\n",
    "import torch as T\n",
    "from torch.utils.data import DataLoader\n",
    "from sklearn import preprocessing\n",
    "from pickle import dump\n",
    "\n",
    "## following are for connecting to FEM code\n",
    "sys.path.append('../../')\n",
    "import KratosMultiphysics\n",
    "from fem_interfaces.kratos.Kratos_Struct_Linear_Sudret_Truss import *\n",
    "\n",
    "## neural network realated functions \n",
    "from neural_net.training import train_with_loader\n",
    "from neural_net.data_utilities import loader_creation\n",
    "from neural_net.networks import Net3\n",
    "\n",
    "# For repeatability\n",
    "np.random.seed(42)\n",
    "torch.manual_seed(0)\n",
    "\n",
    "# For working in both gpu and cpu\n",
    "device = 'cuda' if torch.cuda.is_available() else 'cpu'"
   ]
  },
  {
   "cell_type": "code",
   "execution_count": 2,
   "id": "b8bcbd44-f6c1-4849-a74a-89d534b2189c",
   "metadata": {},
   "outputs": [
    {
     "name": "stdout",
     "output_type": "stream",
     "text": [
      "Started making data\n",
      "Calling derived class to run many simulations\n"
     ]
    },
    {
     "ename": "RuntimeError",
     "evalue": "Error: Error opening mdpa file : sudret_truss.mdpa\n\nin kratos/sources/model_part_io.cpp:55:ModelPartIO::ModelPartIO(const string&, Flags)\n",
     "output_type": "error",
     "traceback": [
      "\u001b[0;31m---------------------------------------------------------------------------\u001b[0m",
      "\u001b[0;31mRuntimeError\u001b[0m                              Traceback (most recent call last)",
      "Input \u001b[0;32mIn [2]\u001b[0m, in \u001b[0;36m<cell line: 12>\u001b[0;34m()\u001b[0m\n\u001b[1;32m     50\u001b[0m model \u001b[38;5;241m=\u001b[39m KratosMultiphysics\u001b[38;5;241m.\u001b[39mModel()\n\u001b[1;32m     51\u001b[0m simulation \u001b[38;5;241m=\u001b[39m StructMechAnaWithVaryingParameters(model,parameters,data_str, data_load)\n\u001b[0;32m---> 52\u001b[0m k, f  \u001b[38;5;241m=\u001b[39m \u001b[43msimulation\u001b[49m\u001b[38;5;241;43m.\u001b[39;49m\u001b[43mRun\u001b[49m\u001b[43m(\u001b[49m\u001b[43m)\u001b[49m\n\u001b[1;32m     53\u001b[0m k_all\u001b[38;5;241m.\u001b[39mappend(k)\n\u001b[1;32m     54\u001b[0m f_all\u001b[38;5;241m.\u001b[39mappend(f)\n",
      "File \u001b[0;32m~/PhD/Codes/fem_nn/examples/sudret_truss/../../fem_interfaces/kratos/Kratos_Struct_Linear_Sudret_Truss.py:94\u001b[0m, in \u001b[0;36mStructMechAnaWithVaryingParameters.Run\u001b[0;34m(self)\u001b[0m\n\u001b[1;32m     93\u001b[0m \u001b[38;5;28;01mdef\u001b[39;00m \u001b[38;5;21mRun\u001b[39m(\u001b[38;5;28mself\u001b[39m):\n\u001b[0;32m---> 94\u001b[0m     \u001b[38;5;28;43mself\u001b[39;49m\u001b[38;5;241;43m.\u001b[39;49m\u001b[43mInitialize\u001b[49m\u001b[43m(\u001b[49m\u001b[43m)\u001b[49m\n\u001b[1;32m     95\u001b[0m     k,f \u001b[38;5;241m=\u001b[39m \u001b[38;5;28mself\u001b[39m\u001b[38;5;241m.\u001b[39mRunSolutionLoop()\n\u001b[1;32m     96\u001b[0m     \u001b[38;5;28mprint\u001b[39m(\u001b[38;5;124m\"\u001b[39m\u001b[38;5;124min derived class\u001b[39m\u001b[38;5;124m\"\u001b[39m)\n",
      "File \u001b[0;32m~/Software/Kratos/install/KratosMultiphysics/StructuralMechanicsApplication/structural_mechanics_analysis.py:42\u001b[0m, in \u001b[0;36mStructuralMechanicsAnalysis.Initialize\u001b[0;34m(self)\u001b[0m\n\u001b[1;32m     40\u001b[0m \u001b[38;5;28;01mdef\u001b[39;00m \u001b[38;5;21mInitialize\u001b[39m(\u001b[38;5;28mself\u001b[39m):\n\u001b[1;32m     41\u001b[0m     \u001b[38;5;124;03m\"\"\" Initializing the Analysis \"\"\"\u001b[39;00m\n\u001b[0;32m---> 42\u001b[0m     \u001b[38;5;28;43msuper\u001b[39;49m\u001b[43m(\u001b[49m\u001b[43m)\u001b[49m\u001b[38;5;241;43m.\u001b[39;49m\u001b[43mInitialize\u001b[49m\u001b[43m(\u001b[49m\u001b[43m)\u001b[49m\n\u001b[1;32m     44\u001b[0m     \u001b[38;5;66;03m# In case of contact problem\u001b[39;00m\n\u001b[1;32m     45\u001b[0m     \u001b[38;5;28;01mif\u001b[39;00m \u001b[38;5;28mself\u001b[39m\u001b[38;5;241m.\u001b[39mcontact_problem:\n",
      "File \u001b[0;32m~/Software/Kratos/install/KratosMultiphysics/analysis_stage.py:81\u001b[0m, in \u001b[0;36mAnalysisStage.Initialize\u001b[0;34m(self)\u001b[0m\n\u001b[1;32m     78\u001b[0m \u001b[38;5;28mself\u001b[39m\u001b[38;5;241m.\u001b[39m_ModelersPrepareGeometryModel()\n\u001b[1;32m     79\u001b[0m \u001b[38;5;28mself\u001b[39m\u001b[38;5;241m.\u001b[39m_ModelersSetupModelPart()\n\u001b[0;32m---> 81\u001b[0m \u001b[38;5;28;43mself\u001b[39;49m\u001b[38;5;241;43m.\u001b[39;49m\u001b[43m_GetSolver\u001b[49m\u001b[43m(\u001b[49m\u001b[43m)\u001b[49m\u001b[38;5;241;43m.\u001b[39;49m\u001b[43mImportModelPart\u001b[49m\u001b[43m(\u001b[49m\u001b[43m)\u001b[49m\n\u001b[1;32m     82\u001b[0m \u001b[38;5;28mself\u001b[39m\u001b[38;5;241m.\u001b[39m_GetSolver()\u001b[38;5;241m.\u001b[39mPrepareModelPart()\n\u001b[1;32m     83\u001b[0m \u001b[38;5;28mself\u001b[39m\u001b[38;5;241m.\u001b[39m_GetSolver()\u001b[38;5;241m.\u001b[39mAddDofs()\n",
      "File \u001b[0;32m~/Software/Kratos/install/KratosMultiphysics/StructuralMechanicsApplication/structural_mechanics_solver.py:226\u001b[0m, in \u001b[0;36mMechanicalSolver.ImportModelPart\u001b[0;34m(self)\u001b[0m\n\u001b[1;32m    223\u001b[0m \u001b[38;5;28;01mdef\u001b[39;00m \u001b[38;5;21mImportModelPart\u001b[39m(\u001b[38;5;28mself\u001b[39m):\n\u001b[1;32m    224\u001b[0m     \u001b[38;5;124;03m\"\"\"This function imports the ModelPart\u001b[39;00m\n\u001b[1;32m    225\u001b[0m \u001b[38;5;124;03m    \"\"\"\u001b[39;00m\n\u001b[0;32m--> 226\u001b[0m     \u001b[38;5;28;43mself\u001b[39;49m\u001b[38;5;241;43m.\u001b[39;49m\u001b[43m_ImportModelPart\u001b[49m\u001b[43m(\u001b[49m\u001b[38;5;28;43mself\u001b[39;49m\u001b[38;5;241;43m.\u001b[39;49m\u001b[43mmain_model_part\u001b[49m\u001b[43m,\u001b[49m\u001b[43m \u001b[49m\u001b[38;5;28;43mself\u001b[39;49m\u001b[38;5;241;43m.\u001b[39;49m\u001b[43msettings\u001b[49m\u001b[43m[\u001b[49m\u001b[38;5;124;43m\"\u001b[39;49m\u001b[38;5;124;43mmodel_import_settings\u001b[39;49m\u001b[38;5;124;43m\"\u001b[39;49m\u001b[43m]\u001b[49m\u001b[43m)\u001b[49m\n",
      "File \u001b[0;32m~/Software/Kratos/install/KratosMultiphysics/python_solver.py:157\u001b[0m, in \u001b[0;36mPythonSolver._ImportModelPart\u001b[0;34m(self, model_part, model_part_import_settings)\u001b[0m\n\u001b[1;32m    154\u001b[0m input_type \u001b[38;5;241m=\u001b[39m model_part_import_settings[\u001b[38;5;124m\"\u001b[39m\u001b[38;5;124minput_type\u001b[39m\u001b[38;5;124m\"\u001b[39m]\u001b[38;5;241m.\u001b[39mGetString()\n\u001b[1;32m    156\u001b[0m \u001b[38;5;28;01mif\u001b[39;00m input_type \u001b[38;5;241m==\u001b[39m \u001b[38;5;124m\"\u001b[39m\u001b[38;5;124mmdpa\u001b[39m\u001b[38;5;124m\"\u001b[39m: \u001b[38;5;66;03m# NOTE: Add more types in the future\u001b[39;00m\n\u001b[0;32m--> 157\u001b[0m     \u001b[43mKratosMultiphysics\u001b[49m\u001b[38;5;241;43m.\u001b[39;49m\u001b[43mSingleImportModelPart\u001b[49m\u001b[38;5;241;43m.\u001b[39;49m\u001b[43mImport\u001b[49m\u001b[43m(\u001b[49m\u001b[43mmodel_part\u001b[49m\u001b[43m,\u001b[49m\u001b[43m \u001b[49m\u001b[43mmodel_part_import_settings\u001b[49m\u001b[43m,\u001b[49m\u001b[43m \u001b[49m\u001b[43minput_type\u001b[49m\u001b[43m)\u001b[49m\n\u001b[1;32m    158\u001b[0m \u001b[38;5;28;01melif\u001b[39;00m input_type \u001b[38;5;241m==\u001b[39m \u001b[38;5;124m\"\u001b[39m\u001b[38;5;124mrest\u001b[39m\u001b[38;5;124m\"\u001b[39m:\n\u001b[1;32m    159\u001b[0m     KratosMultiphysics\u001b[38;5;241m.\u001b[39mLogger\u001b[38;5;241m.\u001b[39mPrintInfo(\u001b[38;5;124m\"\u001b[39m\u001b[38;5;124m::[PythonSolver]::\u001b[39m\u001b[38;5;124m\"\u001b[39m, \u001b[38;5;124m\"\u001b[39m\u001b[38;5;124mLoading model part from restart file.\u001b[39m\u001b[38;5;124m\"\u001b[39m)\n",
      "\u001b[0;31mRuntimeError\u001b[0m: Error: Error opening mdpa file : sudret_truss.mdpa\n\nin kratos/sources/model_part_io.cpp:55:ModelPartIO::ModelPartIO(const string&, Flags)\n"
     ]
    }
   ],
   "source": [
    "# making training data of input space\n",
    "n_samples = 15000\n",
    "\n",
    "try:\n",
    "    k_all = np.load(f'data/k_all_{n_samples}'+'.npy')\n",
    "    f_all = np.load(f'data/f_all_{n_samples}'+'.npy')\n",
    "    data_in = np.load(f'data/data_in_{n_samples}'+'.npy')\n",
    "    loaded = True\n",
    "except: \n",
    "    loaded = False\n",
    "\n",
    "if not loaded:\n",
    "    E_low = 2.1e11\n",
    "    A_Ver_low = 2e-3\n",
    "    A_Hor_low = 1e-3 \n",
    "    F_low = -5e4\n",
    "\n",
    "    E_high = 2.1e10\n",
    "    A_Ver_high = 2e-4\n",
    "    A_Hor_high = 1e-4\n",
    "    F_high = 7.5e3\n",
    "\n",
    "    E_Hor_rv = np.random.uniform(E_low,E_high, size = n_samples).reshape(n_samples,1)\n",
    "    E_Ver_rv = np.random.uniform(E_low,E_high, size = n_samples).reshape(n_samples,1)\n",
    "    A_Hor_rv = np.random.uniform(A_Hor_low,A_Hor_high, size = n_samples).reshape(n_samples,1)\n",
    "    A_Ver_rv = np.random.uniform(A_Ver_low,A_Ver_high, size = n_samples).reshape(n_samples,1)\n",
    "    F1_rv = np.random.uniform(F_low,F_high, size = n_samples).reshape(n_samples,1)\n",
    "    F2_rv = np.random.uniform(F_low,F_high, size = n_samples).reshape(n_samples,1)\n",
    "    F3_rv = np.random.uniform(F_low,F_high, size = n_samples).reshape(n_samples,1)\n",
    "    F4_rv = np.random.uniform(F_low,F_high, size = n_samples).reshape(n_samples,1)\n",
    "    F5_rv = np.random.uniform(F_low,F_high, size = n_samples).reshape(n_samples,1)\n",
    "    F6_rv = np.random.uniform(F_low,F_high, size = n_samples).reshape(n_samples,1)\n",
    "\n",
    "    data_in_str = np.concatenate((E_Ver_rv, A_Ver_rv, E_Hor_rv, A_Hor_rv), axis = 1)\n",
    "    data_in_load = np.concatenate((F1_rv,F2_rv,F3_rv,F4_rv,F5_rv,F6_rv), axis = 1)\n",
    "    data_in = np.concatenate((data_in_str, data_in_load), axis=1)\n",
    "    k_all = []\n",
    "    f_all = []\n",
    "\n",
    "    ############ Data creation\n",
    "    print(\"Started making data\")\n",
    "    with open(\"sim_parameters/ProjectParameters.json\",'r') as parameter_file:\n",
    "        parameters = KratosMultiphysics.Parameters(parameter_file.read())\n",
    "\n",
    "    start_time = time.time()\n",
    "    qoi_all = []\n",
    "\n",
    "    ### call Kratos and create matrices  here\n",
    "    for data_str, data_load in zip(data_in_str, data_in_load):  \n",
    "        model = KratosMultiphysics.Model()\n",
    "        simulation = StructMechAnaWithVaryingParameters(model,parameters,data_str, data_load)\n",
    "        k, f  = simulation.Run()\n",
    "        k_all.append(k)\n",
    "        f_all.append(f)\n",
    "    \n",
    "    end_time = time.time()\n",
    "    print(\"time taken to make data is\", e-s)\n",
    "\n",
    "    k_all = np.asarray(k_all)\n",
    "    f_all = np.asarray(f_all)\n",
    "    data_in = np.asarray(data_in)\n",
    "        \n",
    "    np.save(f'data/k_all_{n_samples}', k_all)\n",
    "    np.save(f'data/f_all_{n_samples}', f_all)\n",
    "    np.save(f'data/data_in_{n_samples}', data_in)"
   ]
  },
  {
   "cell_type": "code",
   "execution_count": null,
   "id": "5c5a2b9e-95f2-41df-a666-d854bdb378b9",
   "metadata": {},
   "outputs": [],
   "source": [
    "scaler = preprocessing.MinMaxScaler()\n",
    "data_in_s = scaler.fit_transform(data_in)\n",
    "dump(scaler, open('scaler.pkl', 'wb'))\n",
    "\n",
    "## data_in_s is the scaled input data to the neural network \n",
    "data_in_torch = torch.from_numpy(data_in_s).float().to(device)\n",
    "\n",
    "## preprocessing of the data (only calculating averages of the matrix and vector used, more functionalities can be added)\n",
    "pre = preprocess(data_in, k_all, f_all, n_samples)\n",
    "\n",
    "## loader to load data in batches , batch size can be given in argument \n",
    "lc = loader_creation(data_in_torch, k_all, f_all, n_samples)\n",
    "train_loader, test_loader = lc.get_loaders(16, True)\n",
    "feature_size = data_in.shape[1]\n",
    "\n",
    "def objective(trial):\n",
    "    # Suggest values of the hyperparameters using a trial object.\n",
    "    n_layers = trial.suggest_int('n_layers', 1, 20)\n",
    "    n_units  = trial.suggest_int('n_units', 5, 500)\n",
    "    init     =  trial.suggest_float(\"init\", 10, 1000.0)\n",
    "    lr       =  trial.suggest_float(\"lr\", 0.0001, 100.0)\n",
    "\n",
    "    # Creation of network\n",
    "    net = Net3(n_feature = feature_size, n_hidden= n_units, n_output = 39, depth = n_layers, init = init )\n",
    "    train_loss, test_loss = train_with_loader(net, train_loader, test_loader, lr, 3, plot = False)\n",
    "\n",
    "    return train_loss\n",
    "\n",
    "#Create a study object and optimize the objective function to find the best hyperparameters.\n",
    "study = optuna.create_study(direction='minimize')\n",
    "study.optimize(objective, n_trials=500)\n",
    "\n",
    "print(study.best_params[\"n_units\"], study.best_params[\"n_layers\"], study.best_params[\"init\"], study.best_params[\"lr\"])\n"
   ]
  },
  {
   "cell_type": "code",
   "execution_count": null,
   "id": "761956c6-1e48-422a-9da3-53761cea7646",
   "metadata": {},
   "outputs": [],
   "source": [
    "net_final = Net3(n_feature = feature_size, n_hidden= study.best_params[\"n_units\"], n_output = 39, \n",
    "                depth = study.best_params[\"n_layers\"], init = study.best_params[\"init\"] )\n",
    "\n",
    "train_loss, test_loss = train_with_loader(net_final, train_loader, test_loader, study.best_params[\"lr\"], 250, plot = True)"
   ]
  },
  {
   "cell_type": "code",
   "execution_count": null,
   "id": "2dd45cf4-fbf1-4021-b21e-0785bccfb4d6",
   "metadata": {},
   "outputs": [],
   "source": [
    "# saving the model\n",
    "modelname = 'model'+'.pt'\n",
    "torch.save(net_final, modelname)"
   ]
  }
 ],
 "metadata": {
  "kernelspec": {
   "display_name": "femnn",
   "language": "python",
   "name": "femnn"
  },
  "language_info": {
   "codemirror_mode": {
    "name": "ipython",
    "version": 3
   },
   "file_extension": ".py",
   "mimetype": "text/x-python",
   "name": "python",
   "nbconvert_exporter": "python",
   "pygments_lexer": "ipython3",
   "version": "3.8.10"
  }
 },
 "nbformat": 4,
 "nbformat_minor": 5
}
